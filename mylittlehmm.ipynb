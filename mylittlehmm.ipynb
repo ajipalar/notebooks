{
 "cells": [
  {
   "cell_type": "code",
   "execution_count": 1,
   "metadata": {},
   "outputs": [
    {
     "data": {
      "text/plain": [
       "'\\nRef https://web.stanford.edu/~jurafsky/slp3/A.pdf\\n'"
      ]
     },
     "execution_count": 1,
     "metadata": {},
     "output_type": "execute_result"
    }
   ],
   "source": [
    "\"\"\"\n",
    "Ref https://web.stanford.edu/~jurafsky/slp3/A.pdf\n",
    "\"\"\""
   ]
  },
  {
   "cell_type": "code",
   "execution_count": 2,
   "metadata": {},
   "outputs": [],
   "source": [
    "import numpy as np\n",
    "import matplotlib.pyplot as plt\n",
    "% matplotlib inline"
   ]
  },
  {
   "cell_type": "code",
   "execution_count": 3,
   "metadata": {},
   "outputs": [],
   "source": [
    "# Q: A set of N states\n",
    "# A: A transition probability matrix\n",
    "# O: A sequence of N observations\n",
    "# B: A sequence of observation likelihoods or emission probabilities\n",
    "# pi: An initial probability distribution"
   ]
  },
  {
   "cell_type": "code",
   "execution_count": 4,
   "metadata": {},
   "outputs": [
    {
     "data": {
      "text/plain": [
       "'\\nA first order hmm assumes that the Probability of State i depends only on the \\npreivous state. Markov assumption\\n\\nOutput Independence:\\n\\nThe probability of an observation oi is dependent only on the current state\\nqi\\n\\n'"
      ]
     },
     "execution_count": 4,
     "metadata": {},
     "output_type": "execute_result"
    }
   ],
   "source": [
    "\"\"\"\n",
    "A first order hmm assumes that the Probability of State i depends only on the \n",
    "preivous state. Markov assumption\n",
    "\n",
    "Output Independence:\n",
    "\n",
    "The probability of an observation oi is dependent on \n",
    "\n",
    "\n",
    "\"\"\""
   ]
  },
  {
   "cell_type": "code",
   "execution_count": 6,
   "metadata": {},
   "outputs": [
    {
     "data": {
      "text/plain": [
       "'\\nTwo algorithms will help solve 1 & 3\\nThe Forward and Forwad-Backward algorithms\\n'"
      ]
     },
     "execution_count": 6,
     "metadata": {},
     "output_type": "execute_result"
    }
   ],
   "source": [
    "\"\"\"\n",
    "Two algorithms will help solve 1 & 3\n",
    "The Forward and Forwad-Backward algorithms\n",
    "\"\"\""
   ]
  },
  {
   "cell_type": "code",
   "execution_count": 7,
   "metadata": {},
   "outputs": [
    {
     "data": {
      "text/plain": [
       "'\\nIce Cream on a hot day\\nQ={H,C}\\nO={1,2,3} # The number of ice cream cones joe eats on a given day\\nB1; the emission probilities for H\\nB2; the emission probilities for C\\n'"
      ]
     },
     "execution_count": 7,
     "metadata": {},
     "output_type": "execute_result"
    }
   ],
   "source": [
    "\"\"\"\n",
    "Ice Cream on a hot day\n",
    "Q={H,C}\n",
    "O={1,2,3} # The number of ice cream cones joe eats on a given day\n",
    "B1; the emission probilities for H\n",
    "B2; the emission probilities for C\n",
    "\"\"\""
   ]
  },
  {
   "cell_type": "code",
   "execution_count": 8,
   "metadata": {},
   "outputs": [],
   "source": [
    "# Compute the likelihood for a given observation sequencne 3 1 3\n",
    "# P(O|HMM)\n",
    "# We don't know the hidden state space"
   ]
  },
  {
   "cell_type": "code",
   "execution_count": 9,
   "metadata": {},
   "outputs": [
    {
     "data": {
      "text/plain": [
       "'\\nSuppose we knew the weather and wanted to predict how mych ice cream\\nJason would eat\\n'"
      ]
     },
     "execution_count": 9,
     "metadata": {},
     "output_type": "execute_result"
    }
   ],
   "source": [
    "\"\"\"\n",
    "Suppose we knew the weather and wanted to predict how mych ice cream\n",
    "Jason would eat\n",
    "\"\"\""
   ]
  },
  {
   "cell_type": "code",
   "execution_count": 10,
   "metadata": {},
   "outputs": [
    {
     "data": {
      "text/plain": [
       "0.008000000000000002"
      ]
     },
     "execution_count": 10,
     "metadata": {},
     "output_type": "execute_result"
    }
   ],
   "source": [
    "# P(313|hot hot cold) = P(3|hot)*P(1|hot)*P(3|cold)\n",
    "P313 = .4*.2*.1\n",
    "P313"
   ]
  },
  {
   "cell_type": "code",
   "execution_count": 11,
   "metadata": {},
   "outputs": [],
   "source": [
    "# We don't know the true sequence of events. i.e hot hot cold\n",
    "# to calculate P(313|Q) we need to sum over all possible weather sequences\n",
    "# weighted by their probability"
   ]
  },
  {
   "cell_type": "code",
   "execution_count": 13,
   "metadata": {},
   "outputs": [],
   "source": [
    "### The joint probability is the conditional observational probability \n",
    "### distribution times the probability distribution of Q\n",
    "\n",
    "# P(313, hot hot cold) = P(3 | hot) * P(1 | hot) * P( 3 | cold) *\n",
    "                        #P(hot|start) *P(hot|hot)*P(cold|hot) These are the \n",
    "                        #Transition probabilties and the initial probability\n",
    "                        #Distribution"
   ]
  },
  {
   "cell_type": "code",
   "execution_count": 14,
   "metadata": {},
   "outputs": [],
   "source": [
    "# The above calculates the joint proability distribution P(O,Q) for a particular\n",
    "# sequence of observations and a particular sequence of states"
   ]
  },
  {
   "cell_type": "code",
   "execution_count": 15,
   "metadata": {},
   "outputs": [],
   "source": [
    "# We can calculate P(O) by summing over all possible hidden state sequence\n",
    "# P(O) = \\sigma_Q P(O,Q)=\\sigma_Q P(O|Q)*P(Q) \n",
    "    # =  \\sigma_Q P(O|qi)P(qi|qi-1)"
   ]
  },
  {
   "cell_type": "code",
   "execution_count": 16,
   "metadata": {},
   "outputs": [],
   "source": [
    "# For an N state HMM with a sequence of T observations\n",
    "# There are N^T possible hidden sequences\n",
    "# This is large and requires a clever algorithm to practically \n",
    "# calculate P(O)"
   ]
  },
  {
   "cell_type": "code",
   "execution_count": 17,
   "metadata": {},
   "outputs": [],
   "source": [
    "# The forward algorithm is O(N^2T)"
   ]
  },
  {
   "cell_type": "code",
   "execution_count": 18,
   "metadata": {},
   "outputs": [],
   "source": [
    "# A forward trellis for computing P(313 | hot hot cold)"
   ]
  },
  {
   "cell_type": "code",
   "execution_count": 19,
   "metadata": {},
   "outputs": [],
   "source": [
    "# Each alpha value represents the probaility of being in a state \n",
    "# given all the ways you could gethttps://web.stanford.edu/~jurafsky/slp3/A.pdf there"
   ]
  },
  {
   "cell_type": "code",
   "execution_count": 1,
   "metadata": {},
   "outputs": [],
   "source": [
    "# rows, columnshttps://web.stanford.edu/~jurafsky/slp3/A.pdf\n",
    "\n",
    "def forward(T,N):\n",
    "    \n",
    "    f = np.zeros((N,T))\n",
    "    #print \"Initialization\\n\"\n",
    "    for i, s in enumerate(Q):\n",
    "        #print \"inedx = %s, t=1, state: %s\" %(i,s)\n",
    "        f[i,0] = pi[i]*B[i][o[0]-1]\n",
    "        print f[i,0]\n",
    "    #print \"\\nforward probability matrix initialized:\\n%s\" %(f)\n",
    "    #print '\\nRecurison\\n'\n",
    "    for t in range(1,T):\n",
    "        for i, s in enumerate(Q):\n",
    "            #print \"inedx = %s, t=%s, state: %s\" %(i,t,s)\n",
    "            alpha = 0\n",
    "            for isp in range(len(Q)): #This loops is a summation\n",
    "                alpha += f[isp,t-1]*a[isp,i]*B[i][o[t]-1]\n",
    "            f[i,t] = alpha\n",
    "            #print f[i,t]\n",
    "            #print f\n",
    "    #print \"\\nTermination\\n\"\n",
    "    forwardprob = np.sum(f[:][-1])\n",
    "    return forwardprob\n",
    "        \n",
    "            \n",
    "            \n",
    "            \n",
    "        \n",
    "        "
   ]
  },
  {
   "cell_type": "code",
   "execution_count": 3,
   "metadata": {},
   "outputs": [],
   "source": [
    "Q = np.array(['hot','cold'])\n",
    "o = np.array([3,1,3]) # The actual observed sequence of events\n",
    "pi = np.array([.8,.2])\n",
    "B = np.array([[.2,.4,.4],[.5,.4,.1]])\n",
    "\n",
    "# A transition probability matrix\n",
    "#   row previous, col currenthttps://web.stanford.edu/~jurafsky/slp3/A.pdf\n",
    "#   value: probability of going from previous state to current state\n",
    "#   0-hot ; 1-cold\n",
    "a = np.array([[.6,.4]\n",
    "             ,[.5,.5]])"
   ]
  },
  {
   "cell_type": "code",
   "execution_count": 175,
   "metadata": {},
   "outputs": [
    {
     "data": {
      "text/plain": [
       "array(['hot', 'cold'], dtype='|S4')"
      ]
     },
     "execution_count": 175,
     "metadata": {},
     "output_type": "execute_result"
    }
   ],
   "source": []
  },
  {
   "cell_type": "code",
   "execution_count": 6,
   "metadata": {},
   "outputs": [
    {
     "name": "stdout",
     "output_type": "stream",
     "text": [
      "0.32000000000000006\n",
      "0.020000000000000004\n"
     ]
    },
    {
     "data": {
      "text/plain": [
       "0.09406600000000002"
      ]
     },
     "execution_count": 6,
     "metadata": {},
     "output_type": "execute_result"
    }
   ],
   "source": [
    "P = forward(3,2)\n",
    "P"
   ]
  },
  {
   "cell_type": "code",
   "execution_count": null,
   "metadata": {},
   "outputs": [],
   "source": []
  }
 ],
 "metadata": {
  "kernelspec": {
   "display_name": "Python 2",
   "language": "python",
   "name": "python2"
  },
  "language_info": {
   "codemirror_mode": {
    "name": "ipython",
    "version": 2
   },
   "file_extension": ".py",
   "mimetype": "text/x-python",
   "name": "python",
   "nbconvert_exporter": "python",
   "pygments_lexer": "ipython2",
   "version": "2.7.16"
  }
 },
 "nbformat": 4,
 "nbformat_minor": 2
}
