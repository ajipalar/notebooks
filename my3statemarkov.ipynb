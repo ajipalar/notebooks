{
 "cells": [
  {
   "cell_type": "code",
   "execution_count": 1,
   "metadata": {},
   "outputs": [],
   "source": [
    "import numpy as np\n",
    "import matplotlib.pyplot as plt\n",
    "% matplotlib inline"
   ]
  },
  {
   "cell_type": "code",
   "execution_count": 17,
   "metadata": {},
   "outputs": [],
   "source": [
    "# pi is the initial discrete probability distribution of starting in state i\n",
    "pi = np.array([.1,.7,.2])\n",
    "Q = np.array([0,1,2]) # The set of stattes \n",
    "# A: The transition probability matrix\n",
    "A = np.ndarray((3,3))\n",
    "A[0]=[.6,.1,.3]\n",
    "A[1]=[.1,.8,.1]\n",
    "A[2]=[.3,.1,.6]\n",
    "\n",
    "ntrials = 3"
   ]
  },
  {
   "cell_type": "code",
   "execution_count": 100,
   "metadata": {},
   "outputs": [],
   "source": [
    "# Initial conditions\n",
    "# Set initial conditions\n",
    "\n",
    "def state(m):\n",
    "    if 0 <= np.random.rand() < m[0]:\n",
    "        x = Q[0]\n",
    "    elif 0.1 <= np.random.rand() < m[1]:\n",
    "        x = Q[1]\n",
    "    else:\n",
    "        x = Q[2]\n",
    "    return x\n",
    "\n",
    "def simulate():\n",
    "    y = np.zeros(3)\n",
    "    for i in range(0,ntrials):\n",
    "        if i == 0:\n",
    "            y[i] = state(pi)\n",
    "        else:\n",
    "            y[i] = state(A[int(y[i-1])]) # This is where the Markov property comes into my code\n",
    "    return y\n",
    "\n",
    "    "
   ]
  }
 ],
 "metadata": {
  "kernelspec": {
   "display_name": "Python 2",
   "language": "python",
   "name": "python2"
  },
  "language_info": {
   "codemirror_mode": {
    "name": "ipython",
    "version": 2
   },
   "file_extension": ".py",
   "mimetype": "text/x-python",
   "name": "python",
   "nbconvert_exporter": "python",
   "pygments_lexer": "ipython2",
   "version": "2.7.16"
  }
 },
 "nbformat": 4,
 "nbformat_minor": 2
}
